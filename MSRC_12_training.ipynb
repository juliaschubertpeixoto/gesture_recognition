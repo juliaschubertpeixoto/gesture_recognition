{
  "nbformat": 4,
  "nbformat_minor": 0,
  "metadata": {
    "colab": {
      "name": "MSRC-12 - training.ipynb",
      "provenance": [],
      "collapsed_sections": [
        "rNy2QplIYRUl",
        "6y0t0T8QYcyx",
        "kqeb4Ln_A6jy",
        "MW8mL4uqBNnn"
      ],
      "include_colab_link": true
    },
    "kernelspec": {
      "name": "python3",
      "display_name": "Python 3"
    },
    "accelerator": "GPU"
  },
  "cells": [
    {
      "cell_type": "markdown",
      "metadata": {
        "id": "view-in-github",
        "colab_type": "text"
      },
      "source": [
        "<a href=\"https://colab.research.google.com/github/juliaschubertpeixoto/gesture_recognition/blob/main/MSRC_12_training.ipynb\" target=\"_parent\"><img src=\"https://colab.research.google.com/assets/colab-badge.svg\" alt=\"Open In Colab\"/></a>"
      ]
    },
    {
      "cell_type": "markdown",
      "metadata": {
        "id": "0Gt7Z3lxGpAH"
      },
      "source": [
        "#Libraries\n"
      ]
    },
    {
      "cell_type": "code",
      "metadata": {
        "id": "zlg2-8759jcV"
      },
      "source": [
        "from matplotlib import pyplot as plt\n",
        "import numpy as np\n",
        "import os\n",
        "import sklearn\n",
        "from sklearn.model_selection import train_test_split\n",
        "from sklearn.preprocessing import StandardScaler, MaxAbsScaler, MinMaxScaler\n",
        "from sklearn.utils import shuffle\n",
        "import tensorflow as tf \n",
        "from tensorflow.keras import datasets, layers, models"
      ],
      "execution_count": null,
      "outputs": []
    },
    {
      "cell_type": "markdown",
      "metadata": {
        "id": "NWqXpN3DPrUB"
      },
      "source": [
        "#Data Processing"
      ]
    },
    {
      "cell_type": "markdown",
      "metadata": {
        "id": "SyMUE8WzGo6U"
      },
      "source": [
        "##Load Data"
      ]
    },
    {
      "cell_type": "code",
      "metadata": {
        "colab": {
          "base_uri": "https://localhost:8080/"
        },
        "id": "NUlwOIFgQ1_4",
        "outputId": "2687d94e-7ac8-4470-ebc7-f206d51a01f0"
      },
      "source": [
        "from google.colab import drive\n",
        "drive.mount('/content/drive')"
      ],
      "execution_count": null,
      "outputs": [
        {
          "output_type": "stream",
          "name": "stdout",
          "text": [
            "Mounted at /content/drive\n"
          ]
        }
      ]
    },
    {
      "cell_type": "code",
      "metadata": {
        "colab": {
          "base_uri": "https://localhost:8080/"
        },
        "id": "7iKD6-EUHYbM",
        "outputId": "f9563a2b-9bb9-4363-9cc5-d3765c44983a"
      },
      "source": [
        "path = '/content/drive/MyDrive/artigo_IEEE/datasets/MSRC-12 preprocessed data'\n",
        "os.chdir(path)\n",
        "X_train = np.load('train_data.npy' ).astype(np.float32)\n",
        "y_train = np.load('train_tag.npy' ).astype(np.int32)\n",
        "X_val = np.load('eval_data.npy' ).astype(np.float32)\n",
        "y_val = np.load('eval_tag.npy' ).astype(np.int32)\n",
        "print(\"Data imported successfuly!\")"
      ],
      "execution_count": null,
      "outputs": [
        {
          "output_type": "stream",
          "name": "stdout",
          "text": [
            "Data imported successfuly!\n"
          ]
        }
      ]
    },
    {
      "cell_type": "code",
      "metadata": {
        "colab": {
          "base_uri": "https://localhost:8080/"
        },
        "id": "TUaOtvj4gtqJ",
        "outputId": "07aeec82-f589-4b74-f259-dd780495bb05"
      },
      "source": [
        "X_train.shape"
      ],
      "execution_count": null,
      "outputs": [
        {
          "output_type": "execute_result",
          "data": {
            "text/plain": [
              "(4192, 667, 80)"
            ]
          },
          "metadata": {},
          "execution_count": 5
        }
      ]
    },
    {
      "cell_type": "code",
      "metadata": {
        "colab": {
          "base_uri": "https://localhost:8080/"
        },
        "id": "2OR5UuuWgsio",
        "outputId": "b0596ff7-5085-4d30-9d0c-a9ee33e89106"
      },
      "source": [
        "X_train[0][0]"
      ],
      "execution_count": null,
      "outputs": [
        {
          "output_type": "execute_result",
          "data": {
            "text/plain": [
              "array([2.779996e+09, 0.000000e+00, 0.000000e+00, 0.000000e+00,\n",
              "       0.000000e+00, 0.000000e+00, 0.000000e+00, 0.000000e+00,\n",
              "       0.000000e+00, 0.000000e+00, 0.000000e+00, 0.000000e+00,\n",
              "       0.000000e+00, 0.000000e+00, 0.000000e+00, 0.000000e+00,\n",
              "       0.000000e+00, 0.000000e+00, 0.000000e+00, 0.000000e+00,\n",
              "       0.000000e+00, 0.000000e+00, 0.000000e+00, 0.000000e+00,\n",
              "       0.000000e+00, 0.000000e+00, 0.000000e+00, 0.000000e+00,\n",
              "       0.000000e+00, 0.000000e+00, 0.000000e+00, 0.000000e+00,\n",
              "       0.000000e+00, 0.000000e+00, 0.000000e+00, 0.000000e+00,\n",
              "       0.000000e+00, 0.000000e+00, 0.000000e+00, 0.000000e+00,\n",
              "       0.000000e+00, 0.000000e+00, 0.000000e+00, 0.000000e+00,\n",
              "       0.000000e+00, 0.000000e+00, 0.000000e+00, 0.000000e+00,\n",
              "       0.000000e+00, 0.000000e+00, 0.000000e+00, 0.000000e+00,\n",
              "       0.000000e+00, 0.000000e+00, 0.000000e+00, 0.000000e+00,\n",
              "       0.000000e+00, 0.000000e+00, 0.000000e+00, 0.000000e+00,\n",
              "       0.000000e+00, 0.000000e+00, 0.000000e+00, 0.000000e+00,\n",
              "       0.000000e+00, 0.000000e+00, 0.000000e+00, 0.000000e+00,\n",
              "       0.000000e+00, 0.000000e+00, 0.000000e+00, 0.000000e+00,\n",
              "       0.000000e+00, 0.000000e+00, 0.000000e+00, 0.000000e+00,\n",
              "       0.000000e+00, 0.000000e+00, 0.000000e+00, 0.000000e+00],\n",
              "      dtype=float32)"
            ]
          },
          "metadata": {},
          "execution_count": 6
        }
      ]
    },
    {
      "cell_type": "markdown",
      "metadata": {
        "id": "9UvKV5PZJ7lM"
      },
      "source": [
        "##Split Data"
      ]
    },
    {
      "cell_type": "code",
      "metadata": {
        "colab": {
          "base_uri": "https://localhost:8080/"
        },
        "id": "8zMZdGkGJs77",
        "outputId": "252973e3-017d-45d2-cde6-500d586f853b"
      },
      "source": [
        "X_val, X_test, y_val, y_test = train_test_split(X_val, y_val, test_size=0.50, random_state=42)\n",
        "print(\"Data splited successfuly!\")\n",
        "print(\" \")\n",
        "print(\"Number of samples on training set:\", y_train.shape[0])\n",
        "print(\"Number of samples on validation set:\", y_val.shape[0])\n",
        "print(\"Number of samples on test set:\", y_test.shape[0] )"
      ],
      "execution_count": null,
      "outputs": [
        {
          "output_type": "stream",
          "name": "stdout",
          "text": [
            "Data splited successfuly!\n",
            " \n",
            "Number of samples on training set: 4192\n",
            "Number of samples on validation set: 1032\n",
            "Number of samples on test set: 1032\n"
          ]
        }
      ]
    },
    {
      "cell_type": "markdown",
      "metadata": {
        "id": "mRxlQO96Kkri"
      },
      "source": [
        "##Normalize data"
      ]
    },
    {
      "cell_type": "code",
      "metadata": {
        "colab": {
          "base_uri": "https://localhost:8080/"
        },
        "id": "zdOLmrK4KOF0",
        "outputId": "8ad8268f-cb90-4f46-8e05-1a7950011798"
      },
      "source": [
        "new_train_data = tf.reshape(X_train, (-1,667*80)) \n",
        "n = MaxAbsScaler() \n",
        "n.fit(new_train_data)\n",
        "newN = n.transform(new_train_data)\n",
        "X_train = tf.reshape(newN, (-1,667,80))\n",
        "print(\"Data normalized successfuly!\")"
      ],
      "execution_count": null,
      "outputs": [
        {
          "output_type": "stream",
          "name": "stdout",
          "text": [
            "Data normalized successfuly!\n"
          ]
        }
      ]
    },
    {
      "cell_type": "code",
      "metadata": {
        "colab": {
          "base_uri": "https://localhost:8080/"
        },
        "id": "Dg4owTkPM7Ts",
        "outputId": "e1e8552f-3200-4e3d-d8f9-ff5069996c6d"
      },
      "source": [
        "new_val_data = tf.reshape(X_val, (-1,667*80))\n",
        "X_val_transform = n.transform(new_val_data)\n",
        "X_val = tf.reshape(X_val_transform, (-1,667,80))\n",
        "print(\"Data normalized successfuly!\")"
      ],
      "execution_count": null,
      "outputs": [
        {
          "output_type": "stream",
          "name": "stdout",
          "text": [
            "Data normalized successfuly!\n"
          ]
        }
      ]
    },
    {
      "cell_type": "code",
      "metadata": {
        "colab": {
          "base_uri": "https://localhost:8080/"
        },
        "id": "gAGw2I9jVDON",
        "outputId": "d7637ffe-9665-4d5c-8952-158e8735faba"
      },
      "source": [
        "new_test_data = tf.reshape(X_test, (-1,667*80))\n",
        "X_test_transform = n.transform(new_test_data)\n",
        "X_test = tf.reshape(X_test_transform, (-1,667,80))\n",
        "print(\"Data normalized successfuly!\")"
      ],
      "execution_count": null,
      "outputs": [
        {
          "output_type": "stream",
          "name": "stdout",
          "text": [
            "Data normalized successfuly!\n"
          ]
        }
      ]
    },
    {
      "cell_type": "markdown",
      "metadata": {
        "id": "G_mqdMQVRDfz"
      },
      "source": [
        "##Reshape Data"
      ]
    },
    {
      "cell_type": "markdown",
      "source": [
        "Only for Convolutional Neural Network"
      ],
      "metadata": {
        "id": "6TqHEsO3ilyl"
      }
    },
    {
      "cell_type": "code",
      "metadata": {
        "colab": {
          "base_uri": "https://localhost:8080/"
        },
        "id": "8wSNw5ToRC_N",
        "outputId": "4a477cc8-06bc-48f1-d5cd-065dd88d484a"
      },
      "source": [
        "train_data_conv = tf.reshape(X_train, (-1,667,80,1))\n",
        "val_data_conv = tf.reshape(X_val, (-1,667,80,1))\n",
        "test_data_conv = tf.reshape(X_test, (-1,667,80,1))\n",
        "print(\"Data reshaped successfuly!\")"
      ],
      "execution_count": null,
      "outputs": [
        {
          "output_type": "stream",
          "name": "stdout",
          "text": [
            "Data reshaped successfuly!\n"
          ]
        }
      ]
    },
    {
      "cell_type": "markdown",
      "metadata": {
        "id": "iv-KT3ELP70A"
      },
      "source": [
        "#Convolutional Neural Network"
      ]
    },
    {
      "cell_type": "markdown",
      "metadata": {
        "id": "dXXegdl2P0kh"
      },
      "source": [
        "##Training"
      ]
    },
    {
      "cell_type": "markdown",
      "metadata": {
        "id": "FF4vLXFFQsmd"
      },
      "source": [
        "*Proposed Model*"
      ]
    },
    {
      "cell_type": "code",
      "metadata": {
        "colab": {
          "base_uri": "https://localhost:8080/"
        },
        "id": "T_RD0YRfNuAL",
        "outputId": "0d03a844-535d-460a-a919-c13f1cab602b"
      },
      "source": [
        "model = models.Sequential()\n",
        "model.add(layers.Input(shape=(667,80,1)))\n",
        "model.add(layers.Conv2D(16, (3, 3), activation='relu', padding='same'))\n",
        "model.add(layers.MaxPooling2D((3, 3), strides=3))\n",
        "model.add(layers.Conv2D(32, (3, 3), activation='relu', padding='same'))\n",
        "model.add(layers.MaxPooling2D((3, 3), strides=3))\n",
        "model.add(layers.Conv2D(64, (3, 3), activation='relu', padding='same'))\n",
        "model.add(layers.MaxPooling2D((2,2), strides=2))\n",
        "model.add(layers.Flatten())\n",
        "model.add(layers.Dense(units=7104, activation='relu'))\n",
        "model.add(layers.Dropout(0.4))\n",
        "model.add(layers.Dense(units=12, activation='softmax'))\n",
        "model.summary()\n",
        "\n",
        "model.compile(optimizer='Adam',\n",
        "              loss='sparse_categorical_crossentropy',\n",
        "              metrics=['accuracy'])"
      ],
      "execution_count": null,
      "outputs": [
        {
          "output_type": "stream",
          "name": "stdout",
          "text": [
            "Model: \"sequential\"\n",
            "_________________________________________________________________\n",
            " Layer (type)                Output Shape              Param #   \n",
            "=================================================================\n",
            " conv2d (Conv2D)             (None, 667, 80, 16)       160       \n",
            "                                                                 \n",
            " max_pooling2d (MaxPooling2D  (None, 222, 26, 16)      0         \n",
            " )                                                               \n",
            "                                                                 \n",
            " conv2d_1 (Conv2D)           (None, 222, 26, 32)       4640      \n",
            "                                                                 \n",
            " max_pooling2d_1 (MaxPooling  (None, 74, 8, 32)        0         \n",
            " 2D)                                                             \n",
            "                                                                 \n",
            " conv2d_2 (Conv2D)           (None, 74, 8, 64)         18496     \n",
            "                                                                 \n",
            " max_pooling2d_2 (MaxPooling  (None, 37, 4, 64)        0         \n",
            " 2D)                                                             \n",
            "                                                                 \n",
            " flatten (Flatten)           (None, 9472)              0         \n",
            "                                                                 \n",
            " dense (Dense)               (None, 7104)              67296192  \n",
            "                                                                 \n",
            " dropout (Dropout)           (None, 7104)              0         \n",
            "                                                                 \n",
            " dense_1 (Dense)             (None, 12)                85260     \n",
            "                                                                 \n",
            "=================================================================\n",
            "Total params: 67,404,748\n",
            "Trainable params: 67,404,748\n",
            "Non-trainable params: 0\n",
            "_________________________________________________________________\n"
          ]
        }
      ]
    },
    {
      "cell_type": "markdown",
      "metadata": {
        "id": "iPBdpSwjQ8Dw"
      },
      "source": [
        "*Training*"
      ]
    },
    {
      "cell_type": "code",
      "metadata": {
        "colab": {
          "base_uri": "https://localhost:8080/"
        },
        "id": "iST1d_JzQ7C-",
        "outputId": "68bad4a6-4d90-4973-c314-b0f85e85de47"
      },
      "source": [
        "history = model.fit(train_data_conv, y_train,\n",
        "          validation_data=(val_data_conv, y_val),\n",
        "          batch_size=10,\n",
        "          epochs=30, shuffle=True)"
      ],
      "execution_count": null,
      "outputs": [
        {
          "output_type": "stream",
          "name": "stdout",
          "text": [
            "Epoch 1/30\n",
            "420/420 [==============================] - 37s 66ms/step - loss: 2.3268 - accuracy: 0.1808 - val_loss: 2.4152 - val_accuracy: 0.2016\n",
            "Epoch 2/30\n",
            "420/420 [==============================] - 27s 64ms/step - loss: 1.7273 - accuracy: 0.3791 - val_loss: 1.4117 - val_accuracy: 0.4932\n",
            "Epoch 3/30\n",
            "420/420 [==============================] - 26s 63ms/step - loss: 1.2103 - accuracy: 0.5720 - val_loss: 1.1155 - val_accuracy: 0.6308\n",
            "Epoch 4/30\n",
            "420/420 [==============================] - 27s 63ms/step - loss: 0.9655 - accuracy: 0.6644 - val_loss: 1.0635 - val_accuracy: 0.6279\n",
            "Epoch 5/30\n",
            "420/420 [==============================] - 27s 65ms/step - loss: 0.8117 - accuracy: 0.7192 - val_loss: 0.9224 - val_accuracy: 0.7006\n",
            "Epoch 6/30\n",
            "420/420 [==============================] - 27s 63ms/step - loss: 0.7166 - accuracy: 0.7619 - val_loss: 0.8466 - val_accuracy: 0.7277\n",
            "Epoch 7/30\n",
            "420/420 [==============================] - 26s 63ms/step - loss: 0.6105 - accuracy: 0.7879 - val_loss: 0.8191 - val_accuracy: 0.7335\n",
            "Epoch 8/30\n",
            "420/420 [==============================] - 27s 63ms/step - loss: 0.5672 - accuracy: 0.8139 - val_loss: 0.8933 - val_accuracy: 0.7161\n",
            "Epoch 9/30\n",
            "420/420 [==============================] - 27s 64ms/step - loss: 0.4944 - accuracy: 0.8392 - val_loss: 0.7363 - val_accuracy: 0.7907\n",
            "Epoch 10/30\n",
            "420/420 [==============================] - 27s 64ms/step - loss: 0.4410 - accuracy: 0.8576 - val_loss: 0.7475 - val_accuracy: 0.8081\n",
            "Epoch 11/30\n",
            "420/420 [==============================] - 27s 63ms/step - loss: 0.3945 - accuracy: 0.8719 - val_loss: 0.6308 - val_accuracy: 0.8285\n",
            "Epoch 12/30\n",
            "420/420 [==============================] - 27s 63ms/step - loss: 0.3737 - accuracy: 0.8712 - val_loss: 0.6836 - val_accuracy: 0.8178\n",
            "Epoch 13/30\n",
            "420/420 [==============================] - 27s 64ms/step - loss: 0.3441 - accuracy: 0.8907 - val_loss: 0.8087 - val_accuracy: 0.7674\n",
            "Epoch 14/30\n",
            "420/420 [==============================] - 27s 64ms/step - loss: 0.3271 - accuracy: 0.8953 - val_loss: 0.7277 - val_accuracy: 0.7888\n",
            "Epoch 15/30\n",
            "420/420 [==============================] - 27s 63ms/step - loss: 0.2782 - accuracy: 0.9062 - val_loss: 0.6353 - val_accuracy: 0.8314\n",
            "Epoch 16/30\n",
            "420/420 [==============================] - 27s 64ms/step - loss: 0.3052 - accuracy: 0.8993 - val_loss: 0.6292 - val_accuracy: 0.8382\n",
            "Epoch 17/30\n",
            "420/420 [==============================] - 27s 63ms/step - loss: 0.2856 - accuracy: 0.9125 - val_loss: 0.7297 - val_accuracy: 0.8217\n",
            "Epoch 18/30\n",
            "420/420 [==============================] - 27s 63ms/step - loss: 0.2758 - accuracy: 0.9113 - val_loss: 0.6884 - val_accuracy: 0.8488\n",
            "Epoch 19/30\n",
            "420/420 [==============================] - 27s 63ms/step - loss: 0.2612 - accuracy: 0.9184 - val_loss: 0.7700 - val_accuracy: 0.8246\n",
            "Epoch 20/30\n",
            "420/420 [==============================] - 27s 64ms/step - loss: 0.2218 - accuracy: 0.9306 - val_loss: 0.7442 - val_accuracy: 0.8304\n",
            "Epoch 21/30\n",
            "420/420 [==============================] - 27s 63ms/step - loss: 0.2476 - accuracy: 0.9189 - val_loss: 0.7405 - val_accuracy: 0.8207\n",
            "Epoch 22/30\n",
            "420/420 [==============================] - 28s 66ms/step - loss: 0.1907 - accuracy: 0.9325 - val_loss: 0.7758 - val_accuracy: 0.8343\n",
            "Epoch 23/30\n",
            "420/420 [==============================] - 27s 63ms/step - loss: 0.1816 - accuracy: 0.9401 - val_loss: 0.6916 - val_accuracy: 0.8566\n",
            "Epoch 24/30\n",
            "420/420 [==============================] - 27s 63ms/step - loss: 0.2144 - accuracy: 0.9311 - val_loss: 0.7751 - val_accuracy: 0.8547\n",
            "Epoch 25/30\n",
            "420/420 [==============================] - 27s 63ms/step - loss: 0.2009 - accuracy: 0.9380 - val_loss: 0.9075 - val_accuracy: 0.8043\n",
            "Epoch 26/30\n",
            "420/420 [==============================] - 27s 64ms/step - loss: 0.2029 - accuracy: 0.9368 - val_loss: 0.6896 - val_accuracy: 0.8634\n",
            "Epoch 27/30\n",
            "420/420 [==============================] - 27s 63ms/step - loss: 0.1973 - accuracy: 0.9389 - val_loss: 0.7979 - val_accuracy: 0.8391\n",
            "Epoch 28/30\n",
            "420/420 [==============================] - 26s 63ms/step - loss: 0.1751 - accuracy: 0.9454 - val_loss: 0.8583 - val_accuracy: 0.8450\n",
            "Epoch 29/30\n",
            "420/420 [==============================] - 26s 63ms/step - loss: 0.1527 - accuracy: 0.9511 - val_loss: 0.8494 - val_accuracy: 0.8517\n",
            "Epoch 30/30\n",
            "420/420 [==============================] - 26s 63ms/step - loss: 0.1913 - accuracy: 0.9420 - val_loss: 0.9295 - val_accuracy: 0.8488\n"
          ]
        }
      ]
    },
    {
      "cell_type": "markdown",
      "metadata": {
        "id": "rNy2QplIYRUl"
      },
      "source": [
        "###Analysis"
      ]
    },
    {
      "cell_type": "code",
      "metadata": {
        "colab": {
          "base_uri": "https://localhost:8080/",
          "height": 295
        },
        "id": "hN2s_EBeV5Zi",
        "outputId": "89daf9cf-425a-4a52-addc-1424d83f43bd"
      },
      "source": [
        "plt.plot(history.history[\"loss\"])\n",
        "plt.plot(history.history[\"val_loss\"])\n",
        "plt.title(\"model loss\")\n",
        "plt.ylabel(\"loss\")\n",
        "plt.xlabel(\"epoch\")\n",
        "plt.legend([\"train\", \"test\"], loc=\"upper left\")\n",
        "plt.show()"
      ],
      "execution_count": null,
      "outputs": [
        {
          "output_type": "display_data",
          "data": {
            "image/png": "[encoded data removed]",
            "text/plain": [
              "<Figure size 432x288 with 1 Axes>"
            ]
          },
          "metadata": {
            "needs_background": "light"
          }
        }
      ]
    },
    {
      "cell_type": "code",
      "metadata": {
        "colab": {
          "base_uri": "https://localhost:8080/",
          "height": 295
        },
        "id": "Mhfy-MWmXb-P",
        "outputId": "216824d1-4f69-4299-8b26-72da07c7d65c"
      },
      "source": [
        "plt.plot(history.history[\"accuracy\"])\n",
        "plt.plot(history.history[\"val_accuracy\"])\n",
        "plt.title(\"model accuracy\")\n",
        "plt.ylabel(\"accuracy\")\n",
        "plt.xlabel(\"epoch\")\n",
        "plt.legend([\"train\", \"test\"], loc=\"upper left\")\n",
        "plt.show()"
      ],
      "execution_count": null,
      "outputs": [
        {
          "output_type": "display_data",
          "data": {
            "image/png": "[encoded data removed]",
            "text/plain": [
              "<Figure size 432x288 with 1 Axes>"
            ]
          },
          "metadata": {
            "needs_background": "light"
          }
        }
      ]
    },
    {
      "cell_type": "markdown",
      "metadata": {
        "id": "6y0t0T8QYcyx"
      },
      "source": [
        "###Testing"
      ]
    },
    {
      "cell_type": "code",
      "metadata": {
        "colab": {
          "base_uri": "https://localhost:8080/"
        },
        "id": "xMxoIalGYd2f",
        "outputId": "96351b9d-a424-4bc8-ffa8-87743b09af12"
      },
      "source": [
        "y_pred = model.predict(test_data_conv)\n",
        "new_pred = np.zeros(y_pred.shape[0])\n",
        "for i in range(y_pred.shape[0]):\n",
        "  new_pred[i] = np.argmax(y_pred[i])\n",
        "print(\"Testing Accuracy: \", sklearn.metrics.accuracy_score(y_true=y_test, y_pred=new_pred))"
      ],
      "execution_count": null,
      "outputs": [
        {
          "output_type": "stream",
          "name": "stdout",
          "text": [
            "Testing Accuracy:  0.8517441860465116\n"
          ]
        }
      ]
    },
    {
      "cell_type": "code",
      "source": [
        "print(sklearn.metrics.classification_report(y_test, new_pred))"
      ],
      "metadata": {
        "colab": {
          "base_uri": "https://localhost:8080/"
        },
        "id": "iR4HWNPG-qOu",
        "outputId": "0b413839-b38d-4869-b6c9-39d67341066b"
      },
      "execution_count": null,
      "outputs": [
        {
          "output_type": "stream",
          "name": "stdout",
          "text": [
            "              precision    recall  f1-score   support\n",
            "\n",
            "           0       0.87      0.81      0.84        83\n",
            "           1       0.77      0.89      0.83        81\n",
            "           2       0.74      0.84      0.78        74\n",
            "           3       0.84      0.88      0.86        89\n",
            "           4       0.82      0.80      0.81       104\n",
            "           5       0.91      0.86      0.88        83\n",
            "           6       0.95      0.80      0.87       100\n",
            "           7       0.75      0.92      0.82        89\n",
            "           8       0.95      0.86      0.90        85\n",
            "           9       0.89      0.93      0.91        81\n",
            "          10       0.85      0.80      0.82        79\n",
            "          11       0.95      0.87      0.91        84\n",
            "\n",
            "    accuracy                           0.85      1032\n",
            "   macro avg       0.86      0.85      0.85      1032\n",
            "weighted avg       0.86      0.85      0.85      1032\n",
            "\n"
          ]
        }
      ]
    },
    {
      "cell_type": "code",
      "source": [
        "import seaborn as sns\n",
        "cm = sklearn.metrics.confusion_matrix(y_true=y_test, y_pred=new_pred)\n",
        "fig, ax = plt.subplots(figsize=(10,10))\n",
        "sns.heatmap(cm, annot=True, cmap='Blues')\n",
        "ax.set_title(\"Confusion Matrix\", fontsize=10)\n",
        "ax.set_xticklabels(ax.get_xticklabels(), fontsize=12)\n",
        "ax.set_yticklabels(ax.get_yticklabels(), fontsize=12)\n",
        "plt.ylabel('True label\\n', fontsize=13)\n",
        "plt.xlabel('Prediced label\\n', fontsize=13)\n",
        "plt.show()"
      ],
      "metadata": {
        "colab": {
          "base_uri": "https://localhost:8080/",
          "height": 641
        },
        "id": "N2y5aeahAImr",
        "outputId": "869b1bf4-c525-42d5-bd42-c0bc3c033104"
      },
      "execution_count": null,
      "outputs": [
        {
          "output_type": "display_data",
          "data": {
            "image/png": "[encoded data removed]",
            "text/plain": [
              "<Figure size 720x720 with 2 Axes>"
            ]
          },
          "metadata": {
            "needs_background": "light"
          }
        }
      ]
    },
    {
      "cell_type": "code",
      "source": [
        "for i in range(len(cm)):\n",
        "  den = sum(cm[i])\n",
        "  num = cm[i][i]\n",
        "  accuracy = num/den\n",
        "  print(\"Accuracy for gesture\", i)\n",
        "  print('{:2.2%}').format(accuracy)\n",
        "  print(' ')"
      ],
      "metadata": {
        "colab": {
          "base_uri": "https://localhost:8080/"
        },
        "id": "ggddQfydQXMZ",
        "outputId": "3c05663f-04c5-4878-81b7-b50c6f0a628f"
      },
      "execution_count": null,
      "outputs": [
        {
          "output_type": "stream",
          "name": "stdout",
          "text": [
            "Accuracy for gesture 0\n",
            "80.72289156626506%\n",
            " \n",
            "Accuracy for gesture 1\n",
            "88.88888888888889%\n",
            " \n",
            "Accuracy for gesture 2\n",
            "83.78378378378379%\n",
            " \n",
            "Accuracy for gesture 3\n",
            "87.64044943820225%\n",
            " \n",
            "Accuracy for gesture 4\n",
            "79.8076923076923%\n",
            " \n",
            "Accuracy for gesture 5\n",
            "85.54216867469879%\n",
            " \n",
            "Accuracy for gesture 6\n",
            "80.0%\n",
            " \n",
            "Accuracy for gesture 7\n",
            "92.13483146067416%\n",
            " \n",
            "Accuracy for gesture 8\n",
            "85.88235294117646%\n",
            " \n",
            "Accuracy for gesture 9\n",
            "92.5925925925926%\n",
            " \n",
            "Accuracy for gesture 10\n",
            "79.74683544303798%\n",
            " \n",
            "Accuracy for gesture 11\n",
            "86.90476190476191%\n",
            " \n"
          ]
        }
      ]
    },
    {
      "cell_type": "markdown",
      "metadata": {
        "id": "ikBt7PRX-mkZ"
      },
      "source": [
        "#Recurrent Neural Network"
      ]
    },
    {
      "cell_type": "markdown",
      "metadata": {
        "id": "ri8J9JIYBZSj"
      },
      "source": [
        "##Training"
      ]
    },
    {
      "cell_type": "markdown",
      "metadata": {
        "id": "druHNH_v_3O7"
      },
      "source": [
        "*Model*"
      ]
    },
    {
      "cell_type": "code",
      "metadata": {
        "colab": {
          "base_uri": "https://localhost:8080/"
        },
        "id": "G4CdgzDe-mAC",
        "outputId": "39f8f1f1-ab54-4432-e479-2ded0be3c7da"
      },
      "source": [
        "model = tf.keras.Sequential([\n",
        "tf.keras.layers.InputLayer(input_shape=(667,80)),   \n",
        "tf.keras.layers.LSTM(128, return_sequences=True),\n",
        "tf.keras.layers.LSTM(128, dropout=0.1),\n",
        "tf.keras.layers.Dense(12, activation='softmax')\n",
        "])\n",
        "\n",
        "model.compile(optimizer = 'RMSProp',\n",
        "              loss = 'sparse_categorical_crossentropy',\n",
        "              metrics=['accuracy'])\n",
        "\n",
        "model.summary()"
      ],
      "execution_count": null,
      "outputs": [
        {
          "output_type": "stream",
          "name": "stdout",
          "text": [
            "Model: \"sequential\"\n",
            "_________________________________________________________________\n",
            " Layer (type)                Output Shape              Param #   \n",
            "=================================================================\n",
            " lstm (LSTM)                 (None, 667, 128)          107008    \n",
            "                                                                 \n",
            " lstm_1 (LSTM)               (None, 128)               131584    \n",
            "                                                                 \n",
            " dense (Dense)               (None, 12)                1548      \n",
            "                                                                 \n",
            "=================================================================\n",
            "Total params: 240,140\n",
            "Trainable params: 240,140\n",
            "Non-trainable params: 0\n",
            "_________________________________________________________________\n"
          ]
        }
      ]
    },
    {
      "cell_type": "markdown",
      "metadata": {
        "id": "Om6KPZGFAAOm"
      },
      "source": [
        "*Training*"
      ]
    },
    {
      "cell_type": "code",
      "metadata": {
        "colab": {
          "base_uri": "https://localhost:8080/"
        },
        "id": "Gg95nAT-__YR",
        "outputId": "7c3e4aff-78ba-4f52-9397-741012a0d3ae"
      },
      "source": [
        "history = model.fit(X_train, y_train,\n",
        "          validation_data=(X_val, y_val),\n",
        "          batch_size=10,\n",
        "          epochs=30, shuffle=True)"
      ],
      "execution_count": null,
      "outputs": [
        {
          "output_type": "stream",
          "name": "stdout",
          "text": [
            "Epoch 1/30\n",
            "420/420 [==============================] - 136s 307ms/step - loss: 2.1015 - accuracy: 0.2433 - val_loss: 1.9688 - val_accuracy: 0.2636\n",
            "Epoch 2/30\n",
            "420/420 [==============================] - 128s 304ms/step - loss: 1.6538 - accuracy: 0.4043 - val_loss: 1.9792 - val_accuracy: 0.3217\n",
            "Epoch 3/30\n",
            "420/420 [==============================] - 128s 304ms/step - loss: 1.4730 - accuracy: 0.4897 - val_loss: 1.3112 - val_accuracy: 0.5455\n",
            "Epoch 4/30\n",
            "420/420 [==============================] - 128s 304ms/step - loss: 1.2590 - accuracy: 0.5706 - val_loss: 1.2472 - val_accuracy: 0.5969\n",
            "Epoch 5/30\n",
            "420/420 [==============================] - 127s 301ms/step - loss: 1.1717 - accuracy: 0.6045 - val_loss: 1.5025 - val_accuracy: 0.5552\n",
            "Epoch 6/30\n",
            "420/420 [==============================] - 127s 301ms/step - loss: 1.0479 - accuracy: 0.6567 - val_loss: 1.0208 - val_accuracy: 0.6609\n",
            "Epoch 7/30\n",
            "420/420 [==============================] - 127s 302ms/step - loss: 0.9772 - accuracy: 0.6877 - val_loss: 0.9426 - val_accuracy: 0.6977\n",
            "Epoch 8/30\n",
            "420/420 [==============================] - 128s 304ms/step - loss: 0.9239 - accuracy: 0.7061 - val_loss: 1.0956 - val_accuracy: 0.6289\n",
            "Epoch 9/30\n",
            "420/420 [==============================] - 128s 305ms/step - loss: 0.9173 - accuracy: 0.7030 - val_loss: 0.9632 - val_accuracy: 0.7083\n",
            "Epoch 10/30\n",
            "420/420 [==============================] - 128s 304ms/step - loss: 0.7743 - accuracy: 0.7545 - val_loss: 1.0346 - val_accuracy: 0.6802\n",
            "Epoch 11/30\n",
            "420/420 [==============================] - 127s 303ms/step - loss: 0.7409 - accuracy: 0.7672 - val_loss: 0.7327 - val_accuracy: 0.7742\n",
            "Epoch 12/30\n",
            "420/420 [==============================] - 128s 304ms/step - loss: 0.6955 - accuracy: 0.7812 - val_loss: 0.6228 - val_accuracy: 0.8014\n",
            "Epoch 13/30\n",
            "420/420 [==============================] - 127s 303ms/step - loss: 0.6441 - accuracy: 0.7999 - val_loss: 0.5880 - val_accuracy: 0.8130\n",
            "Epoch 14/30\n",
            "420/420 [==============================] - 127s 303ms/step - loss: 0.6895 - accuracy: 0.7879 - val_loss: 0.6712 - val_accuracy: 0.7878\n",
            "Epoch 15/30\n",
            "420/420 [==============================] - 127s 303ms/step - loss: 0.6462 - accuracy: 0.8006 - val_loss: 0.7286 - val_accuracy: 0.7771\n",
            "Epoch 16/30\n",
            "420/420 [==============================] - 127s 303ms/step - loss: 0.5642 - accuracy: 0.8266 - val_loss: 0.7257 - val_accuracy: 0.7752\n",
            "Epoch 17/30\n",
            "420/420 [==============================] - 127s 303ms/step - loss: 0.5519 - accuracy: 0.8282 - val_loss: 0.5989 - val_accuracy: 0.8101\n",
            "Epoch 18/30\n",
            "420/420 [==============================] - 127s 303ms/step - loss: 0.5382 - accuracy: 0.8392 - val_loss: 0.5393 - val_accuracy: 0.8450\n",
            "Epoch 19/30\n",
            "420/420 [==============================] - 127s 302ms/step - loss: 0.5016 - accuracy: 0.8495 - val_loss: 0.4615 - val_accuracy: 0.8672\n",
            "Epoch 20/30\n",
            "420/420 [==============================] - 127s 303ms/step - loss: 0.4813 - accuracy: 0.8557 - val_loss: 0.7854 - val_accuracy: 0.7800\n",
            "Epoch 21/30\n",
            "420/420 [==============================] - 127s 302ms/step - loss: 0.4615 - accuracy: 0.8581 - val_loss: 0.6590 - val_accuracy: 0.7946\n",
            "Epoch 22/30\n",
            "420/420 [==============================] - 127s 303ms/step - loss: 0.4406 - accuracy: 0.8702 - val_loss: 0.4631 - val_accuracy: 0.8614\n",
            "Epoch 23/30\n",
            "420/420 [==============================] - 127s 302ms/step - loss: 0.4173 - accuracy: 0.8674 - val_loss: 0.4513 - val_accuracy: 0.8682\n",
            "Epoch 24/30\n",
            "420/420 [==============================] - 127s 303ms/step - loss: 0.4047 - accuracy: 0.8793 - val_loss: 0.9075 - val_accuracy: 0.7229\n",
            "Epoch 25/30\n",
            "420/420 [==============================] - 127s 303ms/step - loss: 0.3843 - accuracy: 0.8798 - val_loss: 0.5523 - val_accuracy: 0.8362\n",
            "Epoch 26/30\n",
            "420/420 [==============================] - 127s 303ms/step - loss: 0.3765 - accuracy: 0.8843 - val_loss: 0.4714 - val_accuracy: 0.8576\n",
            "Epoch 27/30\n",
            "420/420 [==============================] - 127s 302ms/step - loss: 0.4824 - accuracy: 0.8576 - val_loss: 0.5251 - val_accuracy: 0.8450\n",
            "Epoch 28/30\n",
            "420/420 [==============================] - 127s 303ms/step - loss: 0.3764 - accuracy: 0.8860 - val_loss: 0.4506 - val_accuracy: 0.8769\n",
            "Epoch 29/30\n",
            "420/420 [==============================] - 127s 304ms/step - loss: 0.3448 - accuracy: 0.8986 - val_loss: 0.4157 - val_accuracy: 0.8702\n",
            "Epoch 30/30\n",
            "420/420 [==============================] - 127s 303ms/step - loss: 0.3489 - accuracy: 0.8891 - val_loss: 0.5301 - val_accuracy: 0.8411\n"
          ]
        }
      ]
    },
    {
      "cell_type": "markdown",
      "metadata": {
        "id": "kqeb4Ln_A6jy"
      },
      "source": [
        "###Analysis"
      ]
    },
    {
      "cell_type": "code",
      "metadata": {
        "colab": {
          "base_uri": "https://localhost:8080/",
          "height": 295
        },
        "id": "7Ude2W-OA4JD",
        "outputId": "c423594f-24be-4b3b-d1b1-5177c3f29745"
      },
      "source": [
        "plt.plot(history.history[\"loss\"])\n",
        "plt.plot(history.history[\"val_loss\"])\n",
        "plt.title(\"model loss\")\n",
        "plt.ylabel(\"loss\")\n",
        "plt.xlabel(\"epoch\")\n",
        "plt.legend([\"train\", \"test\"], loc=\"upper left\")\n",
        "plt.show()"
      ],
      "execution_count": null,
      "outputs": [
        {
          "output_type": "display_data",
          "data": {
            "image/png": "[encoded data removed]",
            "text/plain": [
              "<Figure size 432x288 with 1 Axes>"
            ]
          },
          "metadata": {
            "needs_background": "light"
          }
        }
      ]
    },
    {
      "cell_type": "code",
      "metadata": {
        "colab": {
          "base_uri": "https://localhost:8080/",
          "height": 295
        },
        "id": "tl1sxVEiAuXy",
        "outputId": "cfb18655-f78c-4471-d9b2-89dba9c38e8f"
      },
      "source": [
        "plt.plot(history.history[\"accuracy\"])\n",
        "plt.plot(history.history[\"val_accuracy\"])\n",
        "plt.title(\"model accuracy\")\n",
        "plt.ylabel(\"accuracy\")\n",
        "plt.xlabel(\"epoch\")\n",
        "plt.legend([\"train\", \"test\"], loc=\"upper left\")\n",
        "plt.show()"
      ],
      "execution_count": null,
      "outputs": [
        {
          "output_type": "display_data",
          "data": {
            "image/png": "[encoded data removed]",
            "text/plain": [
              "<Figure size 432x288 with 1 Axes>"
            ]
          },
          "metadata": {
            "needs_background": "light"
          }
        }
      ]
    },
    {
      "cell_type": "markdown",
      "metadata": {
        "id": "MW8mL4uqBNnn"
      },
      "source": [
        "###Testing"
      ]
    },
    {
      "cell_type": "code",
      "metadata": {
        "colab": {
          "base_uri": "https://localhost:8080/"
        },
        "id": "QsW_mNlOBPfz",
        "outputId": "a29e5aa1-eb97-4a55-8c92-66140a35fe18"
      },
      "source": [
        "y_pred = model.predict(X_test)\n",
        "new_pred = np.zeros(y_pred.shape[0])\n",
        "for i in range(y_pred.shape[0]):\n",
        "  new_pred[i] = np.argmax(y_pred[i])\n",
        "print(\"Testing Accuracy: \", sklearn.metrics.accuracy_score(y_true=y_test, y_pred=new_pred))"
      ],
      "execution_count": null,
      "outputs": [
        {
          "output_type": "stream",
          "name": "stdout",
          "text": [
            "Testing Accuracy:  0.8478682170542635\n"
          ]
        }
      ]
    },
    {
      "cell_type": "code",
      "source": [
        "print(sklearn.metrics.classification_report(y_test, new_pred))"
      ],
      "metadata": {
        "colab": {
          "base_uri": "https://localhost:8080/"
        },
        "outputId": "b4635a72-c027-4a95-e2af-de2a74a6d1a6",
        "id": "muKcRcgHRB0X"
      },
      "execution_count": null,
      "outputs": [
        {
          "output_type": "stream",
          "name": "stdout",
          "text": [
            "              precision    recall  f1-score   support\n",
            "\n",
            "           0       0.83      0.81      0.82        83\n",
            "           1       0.91      0.88      0.89        81\n",
            "           2       0.97      0.77      0.86        74\n",
            "           3       0.82      0.60      0.69        89\n",
            "           4       0.79      0.88      0.83       104\n",
            "           5       0.74      0.90      0.81        83\n",
            "           6       0.91      0.83      0.87       100\n",
            "           7       0.94      0.91      0.93        89\n",
            "           8       0.97      0.84      0.90        85\n",
            "           9       0.77      0.98      0.86        81\n",
            "          10       0.82      0.87      0.85        79\n",
            "          11       0.82      0.93      0.87        84\n",
            "\n",
            "    accuracy                           0.85      1032\n",
            "   macro avg       0.86      0.85      0.85      1032\n",
            "weighted avg       0.86      0.85      0.85      1032\n",
            "\n"
          ]
        }
      ]
    },
    {
      "cell_type": "code",
      "source": [
        "import seaborn as sns\n",
        "cm = sklearn.metrics.confusion_matrix(y_true=y_test, y_pred=new_pred)\n",
        "fig, ax = plt.subplots(figsize=(10,10))\n",
        "sns.heatmap(cm, annot=True, cmap='Blues')\n",
        "ax.set_title(\"Confusion Matrix\", fontsize=10)\n",
        "ax.set_xticklabels(ax.get_xticklabels(), fontsize=12)\n",
        "ax.set_yticklabels(ax.get_yticklabels(), fontsize=12)\n",
        "plt.ylabel('True label\\n', fontsize=13)\n",
        "plt.xlabel('Prediced label\\n', fontsize=13)\n",
        "plt.show()"
      ],
      "metadata": {
        "colab": {
          "base_uri": "https://localhost:8080/",
          "height": 641
        },
        "outputId": "166b4f5a-942b-48c0-ce83-91788260feb5",
        "id": "VTyvu1TrRB0h"
      },
      "execution_count": null,
      "outputs": [
        {
          "output_type": "display_data",
          "data": {
            "image/png": "[encoded data removed]",
            "text/plain": [
              "<Figure size 720x720 with 2 Axes>"
            ]
          },
          "metadata": {
            "needs_background": "light"
          }
        }
      ]
    },
    {
      "cell_type": "code",
      "source": [
        "for i in range(len(cm)):\n",
        "  den = sum(cm[i])\n",
        "  num = cm[i][i]\n",
        "  accuracy = num/den\n",
        "  print(\"Accuracy for gesture\", i)\n",
        "  print(str(accuracy*100)+\"%\")\n",
        "  print(' ')"
      ],
      "metadata": {
        "colab": {
          "base_uri": "https://localhost:8080/"
        },
        "outputId": "6ea28cf4-fcc0-4014-8e64-fbe0f7c3aeba",
        "id": "dCckf6B-RB0h"
      },
      "execution_count": null,
      "outputs": [
        {
          "output_type": "stream",
          "name": "stdout",
          "text": [
            "Accuracy for gesture 0\n",
            "80.72289156626506%\n",
            " \n",
            "Accuracy for gesture 1\n",
            "87.65432098765432%\n",
            " \n",
            "Accuracy for gesture 2\n",
            "77.02702702702703%\n",
            " \n",
            "Accuracy for gesture 3\n",
            "59.55056179775281%\n",
            " \n",
            "Accuracy for gesture 4\n",
            "87.5%\n",
            " \n",
            "Accuracy for gesture 5\n",
            "90.36144578313254%\n",
            " \n",
            "Accuracy for gesture 6\n",
            "83.0%\n",
            " \n",
            "Accuracy for gesture 7\n",
            "91.01123595505618%\n",
            " \n",
            "Accuracy for gesture 8\n",
            "83.52941176470588%\n",
            " \n",
            "Accuracy for gesture 9\n",
            "97.53086419753086%\n",
            " \n",
            "Accuracy for gesture 10\n",
            "87.34177215189874%\n",
            " \n",
            "Accuracy for gesture 11\n",
            "92.85714285714286%\n",
            " \n"
          ]
        }
      ]
    },
    {
      "cell_type": "markdown",
      "metadata": {
        "id": "8Qvj_nyKR2Ff"
      },
      "source": [
        "# GRU"
      ]
    },
    {
      "cell_type": "markdown",
      "metadata": {
        "id": "TPqiRAbDhyl-"
      },
      "source": [
        "##Training"
      ]
    },
    {
      "cell_type": "markdown",
      "metadata": {
        "id": "BlTyNXWihymI"
      },
      "source": [
        "*Model*"
      ]
    },
    {
      "cell_type": "code",
      "metadata": {
        "colab": {
          "base_uri": "https://localhost:8080/"
        },
        "id": "incBbglcR3R0",
        "outputId": "5d23619c-847a-40ff-ddc3-15e4499aefd7"
      },
      "source": [
        "model = tf.keras.Sequential([\n",
        "tf.keras.layers.InputLayer(input_shape=(667,80)),   \n",
        "tf.keras.layers.GRU(128, return_sequences=True),\n",
        "tf.keras.layers.GRU(128, return_sequences=True, dropout=0.1),\n",
        "tf.keras.layers.Conv1D(60, 1, activation='relu', padding='same'),\n",
        "tf.keras.layers.Flatten(),\n",
        "tf.keras.layers.Dense(12, activation='softmax')\n",
        "])\n",
        "opt = tf.keras.optimizers.RMSprop(learning_rate=0.001)\n",
        "model.compile(optimizer = opt,\n",
        "              loss = 'sparse_categorical_crossentropy',\n",
        "              metrics=['accuracy'])\n",
        "\n",
        "model.summary()"
      ],
      "execution_count": null,
      "outputs": [
        {
          "output_type": "stream",
          "name": "stdout",
          "text": [
            "Model: \"sequential\"\n",
            "_________________________________________________________________\n",
            " Layer (type)                Output Shape              Param #   \n",
            "=================================================================\n",
            " gru (GRU)                   (None, 667, 128)          80640     \n",
            "                                                                 \n",
            " gru_1 (GRU)                 (None, 667, 128)          99072     \n",
            "                                                                 \n",
            " conv1d (Conv1D)             (None, 667, 60)           7740      \n",
            "                                                                 \n",
            " flatten (Flatten)           (None, 40020)             0         \n",
            "                                                                 \n",
            " dense (Dense)               (None, 12)                480252    \n",
            "                                                                 \n",
            "=================================================================\n",
            "Total params: 667,704\n",
            "Trainable params: 667,704\n",
            "Non-trainable params: 0\n",
            "_________________________________________________________________\n"
          ]
        }
      ]
    },
    {
      "cell_type": "markdown",
      "source": [
        "*Training*"
      ],
      "metadata": {
        "id": "OqsCw8Nwhz3Q"
      }
    },
    {
      "cell_type": "code",
      "metadata": {
        "colab": {
          "base_uri": "https://localhost:8080/"
        },
        "id": "q7SfPb6aTQry",
        "outputId": "49e88d81-14ac-4890-879f-e8a8df21c476"
      },
      "source": [
        "history = model.fit(X_train, y_train,\n",
        "          validation_data=(X_val, y_val),\n",
        "          batch_size=10,\n",
        "          epochs=30, shuffle=True)"
      ],
      "execution_count": null,
      "outputs": [
        {
          "output_type": "stream",
          "name": "stdout",
          "text": [
            "Epoch 1/30\n",
            "420/420 [==============================] - 103s 213ms/step - loss: 2.5794 - accuracy: 0.1562 - val_loss: 8.6127 - val_accuracy: 0.1231\n",
            "Epoch 2/30\n",
            "420/420 [==============================] - 87s 208ms/step - loss: 2.2830 - accuracy: 0.2393 - val_loss: 1.8629 - val_accuracy: 0.3256\n",
            "Epoch 3/30\n",
            "420/420 [==============================] - 88s 210ms/step - loss: 1.8595 - accuracy: 0.3719 - val_loss: 1.6523 - val_accuracy: 0.4409\n",
            "Epoch 4/30\n",
            "420/420 [==============================] - 89s 212ms/step - loss: 1.6021 - accuracy: 0.4616 - val_loss: 1.4629 - val_accuracy: 0.4806\n",
            "Epoch 5/30\n",
            "420/420 [==============================] - 86s 205ms/step - loss: 1.3520 - accuracy: 0.5382 - val_loss: 1.2408 - val_accuracy: 0.5775\n",
            "Epoch 6/30\n",
            "420/420 [==============================] - 87s 207ms/step - loss: 1.2532 - accuracy: 0.6040 - val_loss: 2.0624 - val_accuracy: 0.3440\n",
            "Epoch 7/30\n",
            "420/420 [==============================] - 89s 213ms/step - loss: 1.1245 - accuracy: 0.6419 - val_loss: 1.5020 - val_accuracy: 0.5601\n",
            "Epoch 8/30\n",
            "420/420 [==============================] - 88s 209ms/step - loss: 0.9366 - accuracy: 0.7266 - val_loss: 0.8047 - val_accuracy: 0.7587\n",
            "Epoch 9/30\n",
            "420/420 [==============================] - 92s 220ms/step - loss: 0.7454 - accuracy: 0.7855 - val_loss: 1.1160 - val_accuracy: 0.7083\n",
            "Epoch 10/30\n",
            "420/420 [==============================] - 88s 211ms/step - loss: 0.6666 - accuracy: 0.8139 - val_loss: 0.6994 - val_accuracy: 0.8110\n",
            "Epoch 11/30\n",
            "420/420 [==============================] - 94s 225ms/step - loss: 0.6265 - accuracy: 0.8259 - val_loss: 0.7511 - val_accuracy: 0.8188\n",
            "Epoch 12/30\n",
            "420/420 [==============================] - 90s 215ms/step - loss: 0.5947 - accuracy: 0.8442 - val_loss: 0.7289 - val_accuracy: 0.8101\n",
            "Epoch 13/30\n",
            "420/420 [==============================] - 89s 213ms/step - loss: 0.5780 - accuracy: 0.8593 - val_loss: 0.8299 - val_accuracy: 0.8120\n",
            "Epoch 14/30\n",
            "420/420 [==============================] - 94s 224ms/step - loss: 0.5034 - accuracy: 0.8647 - val_loss: 0.7004 - val_accuracy: 0.8372\n",
            "Epoch 15/30\n",
            "420/420 [==============================] - 92s 219ms/step - loss: 0.4386 - accuracy: 0.8793 - val_loss: 0.7084 - val_accuracy: 0.8479\n",
            "Epoch 16/30\n",
            "420/420 [==============================] - 89s 212ms/step - loss: 0.4407 - accuracy: 0.8848 - val_loss: 0.6043 - val_accuracy: 0.8702\n",
            "Epoch 17/30\n",
            "420/420 [==============================] - 89s 212ms/step - loss: 0.3925 - accuracy: 0.8900 - val_loss: 0.7492 - val_accuracy: 0.8459\n",
            "Epoch 18/30\n",
            "420/420 [==============================] - 90s 214ms/step - loss: 0.3738 - accuracy: 0.8965 - val_loss: 0.6930 - val_accuracy: 0.8595\n",
            "Epoch 19/30\n",
            "420/420 [==============================] - 90s 215ms/step - loss: 0.3990 - accuracy: 0.9072 - val_loss: 0.8560 - val_accuracy: 0.8372\n",
            "Epoch 20/30\n",
            "420/420 [==============================] - 94s 224ms/step - loss: 0.3561 - accuracy: 0.9070 - val_loss: 0.9464 - val_accuracy: 0.8469\n",
            "Epoch 21/30\n",
            "420/420 [==============================] - 92s 219ms/step - loss: 0.3525 - accuracy: 0.9108 - val_loss: 0.7683 - val_accuracy: 0.8808\n",
            "Epoch 22/30\n",
            "420/420 [==============================] - 91s 216ms/step - loss: 0.3525 - accuracy: 0.9153 - val_loss: 0.9301 - val_accuracy: 0.8459\n",
            "Epoch 23/30\n",
            "420/420 [==============================] - 90s 213ms/step - loss: 0.2948 - accuracy: 0.9201 - val_loss: 1.1478 - val_accuracy: 0.8304\n",
            "Epoch 24/30\n",
            "420/420 [==============================] - 88s 209ms/step - loss: 0.3256 - accuracy: 0.9148 - val_loss: 0.9084 - val_accuracy: 0.8614\n",
            "Epoch 25/30\n",
            "420/420 [==============================] - 95s 226ms/step - loss: 0.2966 - accuracy: 0.9213 - val_loss: 1.1248 - val_accuracy: 0.8450\n",
            "Epoch 26/30\n",
            "420/420 [==============================] - 90s 214ms/step - loss: 0.2824 - accuracy: 0.9220 - val_loss: 0.9733 - val_accuracy: 0.8702\n",
            "Epoch 27/30\n",
            "420/420 [==============================] - 93s 222ms/step - loss: 0.2898 - accuracy: 0.9275 - val_loss: 2.4070 - val_accuracy: 0.8217\n",
            "Epoch 28/30\n",
            "420/420 [==============================] - 92s 220ms/step - loss: 0.2617 - accuracy: 0.9306 - val_loss: 1.2917 - val_accuracy: 0.8479\n",
            "Epoch 29/30\n",
            "420/420 [==============================] - 95s 226ms/step - loss: 0.2958 - accuracy: 0.9351 - val_loss: 0.9081 - val_accuracy: 0.8702\n",
            "Epoch 30/30\n",
            "420/420 [==============================] - 88s 210ms/step - loss: 0.2801 - accuracy: 0.9332 - val_loss: 0.9982 - val_accuracy: 0.8866\n"
          ]
        }
      ]
    },
    {
      "cell_type": "markdown",
      "source": [
        "## Analysis"
      ],
      "metadata": {
        "id": "Y34gke60h2oY"
      }
    },
    {
      "cell_type": "code",
      "metadata": {
        "id": "XcXMMqa3TV92",
        "colab": {
          "base_uri": "https://localhost:8080/",
          "height": 295
        },
        "outputId": "9931e0ab-9465-42a5-bfde-9181fdabd00f"
      },
      "source": [
        "plt.plot(history.history[\"loss\"])\n",
        "plt.plot(history.history[\"val_loss\"])\n",
        "plt.title(\"model loss\")\n",
        "plt.ylabel(\"loss\")\n",
        "plt.xlabel(\"epoch\")\n",
        "plt.legend([\"train\", \"test\"], loc=\"upper left\")\n",
        "plt.show()"
      ],
      "execution_count": null,
      "outputs": [
        {
          "output_type": "display_data",
          "data": {
            "image/png": "[encoded data removed]",
            "text/plain": [
              "<Figure size 432x288 with 1 Axes>"
            ]
          },
          "metadata": {
            "needs_background": "light"
          }
        }
      ]
    },
    {
      "cell_type": "code",
      "metadata": {
        "colab": {
          "base_uri": "https://localhost:8080/",
          "height": 295
        },
        "id": "UcXL6SZIYDos",
        "outputId": "39976b44-ef6e-47fc-b7c5-56c570f38273"
      },
      "source": [
        "plt.plot(history.history[\"accuracy\"])\n",
        "plt.plot(history.history[\"val_accuracy\"])\n",
        "plt.title(\"model accuracy\")\n",
        "plt.ylabel(\"accuracy\")\n",
        "plt.xlabel(\"epoch\")\n",
        "plt.legend([\"train\", \"test\"], loc=\"upper left\")\n",
        "plt.show()"
      ],
      "execution_count": null,
      "outputs": [
        {
          "output_type": "display_data",
          "data": {
            "image/png": "[encoded data removed]",
            "text/plain": [
              "<Figure size 432x288 with 1 Axes>"
            ]
          },
          "metadata": {
            "needs_background": "light"
          }
        }
      ]
    },
    {
      "cell_type": "markdown",
      "source": [
        "## Testing"
      ],
      "metadata": {
        "id": "L2OQVfbEh6kP"
      }
    },
    {
      "cell_type": "code",
      "metadata": {
        "colab": {
          "base_uri": "https://localhost:8080/"
        },
        "id": "FgwI2WtIVVDt",
        "outputId": "e79509e8-be3e-4808-e8a6-bbed41423156"
      },
      "source": [
        "y_pred = model.predict(X_test)\n",
        "new_pred = np.zeros(y_pred.shape[0])\n",
        "for i in range(y_pred.shape[0]):\n",
        "  new_pred[i] = np.argmax(y_pred[i])\n",
        "print(\"Testing Accuracy: \", sklearn.metrics.accuracy_score(y_true=y_test, y_pred=new_pred))"
      ],
      "execution_count": null,
      "outputs": [
        {
          "output_type": "stream",
          "name": "stdout",
          "text": [
            "Testing Accuracy:  0.8943798449612403\n"
          ]
        }
      ]
    },
    {
      "cell_type": "code",
      "source": [
        "print(sklearn.metrics.classification_report(y_test, new_pred))"
      ],
      "metadata": {
        "colab": {
          "base_uri": "https://localhost:8080/"
        },
        "outputId": "17f1f38b-1123-47ce-ebb0-0adb64622938",
        "id": "xK_GkIPCREZT"
      },
      "execution_count": null,
      "outputs": [
        {
          "output_type": "stream",
          "name": "stdout",
          "text": [
            "              precision    recall  f1-score   support\n",
            "\n",
            "           0       0.94      0.81      0.87        83\n",
            "           1       0.88      0.91      0.90        81\n",
            "           2       0.82      0.92      0.87        74\n",
            "           3       0.84      0.90      0.87        89\n",
            "           4       0.88      0.84      0.86       104\n",
            "           5       0.91      0.84      0.88        83\n",
            "           6       0.93      0.90      0.91       100\n",
            "           7       0.86      0.94      0.90        89\n",
            "           8       0.95      0.96      0.96        85\n",
            "           9       0.90      0.93      0.91        81\n",
            "          10       0.89      0.90      0.89        79\n",
            "          11       0.95      0.89      0.92        84\n",
            "\n",
            "    accuracy                           0.89      1032\n",
            "   macro avg       0.90      0.90      0.89      1032\n",
            "weighted avg       0.90      0.89      0.89      1032\n",
            "\n"
          ]
        }
      ]
    },
    {
      "cell_type": "code",
      "source": [
        "import seaborn as sns\n",
        "cm = sklearn.metrics.confusion_matrix(y_true=y_test, y_pred=new_pred)\n",
        "fig, ax = plt.subplots(figsize=(10,10))\n",
        "sns.heatmap(cm, annot=True, cmap='Blues')\n",
        "ax.set_title(\"Confusion Matrix\", fontsize=10)\n",
        "ax.set_xticklabels(ax.get_xticklabels(), fontsize=12)\n",
        "ax.set_yticklabels(ax.get_yticklabels(), fontsize=12)\n",
        "plt.ylabel('True label\\n', fontsize=13)\n",
        "plt.xlabel('Prediced label\\n', fontsize=13)\n",
        "plt.show()"
      ],
      "metadata": {
        "colab": {
          "base_uri": "https://localhost:8080/",
          "height": 641
        },
        "outputId": "1553c936-baf5-4a63-f09d-1d6c86688dab",
        "id": "uejY4ykkREZU"
      },
      "execution_count": null,
      "outputs": [
        {
          "output_type": "display_data",
          "data": {
            "image/png": "[encoded data removed]",
            "text/plain": [
              "<Figure size 720x720 with 2 Axes>"
            ]
          },
          "metadata": {
            "needs_background": "light"
          }
        }
      ]
    },
    {
      "cell_type": "code",
      "source": [
        "for i in range(len(cm)):\n",
        "  den = sum(cm[i])\n",
        "  num = cm[i][i]\n",
        "  accuracy = num/den\n",
        "  print(\"Accuracy for gesture\", i)\n",
        "  print(str(accuracy*100)+\"%\")\n",
        "  print(' ')"
      ],
      "metadata": {
        "colab": {
          "base_uri": "https://localhost:8080/"
        },
        "outputId": "181ee1d2-8dc1-4d57-bc44-022510c4e5f5",
        "id": "4mOAJiCsREZU"
      },
      "execution_count": null,
      "outputs": [
        {
          "output_type": "stream",
          "name": "stdout",
          "text": [
            "Accuracy for gesture 0\n",
            "80.72289156626506%\n",
            " \n",
            "Accuracy for gesture 1\n",
            "91.35802469135803%\n",
            " \n",
            "Accuracy for gesture 2\n",
            "91.8918918918919%\n",
            " \n",
            "Accuracy for gesture 3\n",
            "89.8876404494382%\n",
            " \n",
            "Accuracy for gesture 4\n",
            "83.65384615384616%\n",
            " \n",
            "Accuracy for gesture 5\n",
            "84.33734939759037%\n",
            " \n",
            "Accuracy for gesture 6\n",
            "90.0%\n",
            " \n",
            "Accuracy for gesture 7\n",
            "94.3820224719101%\n",
            " \n",
            "Accuracy for gesture 8\n",
            "96.47058823529412%\n",
            " \n",
            "Accuracy for gesture 9\n",
            "92.5925925925926%\n",
            " \n",
            "Accuracy for gesture 10\n",
            "89.87341772151899%\n",
            " \n",
            "Accuracy for gesture 11\n",
            "89.28571428571429%\n",
            " \n"
          ]
        }
      ]
    },
    {
      "cell_type": "code",
      "source": [
        ""
      ],
      "metadata": {
        "id": "OuTdyamnRKE_"
      },
      "execution_count": null,
      "outputs": []
    }
  ]
}